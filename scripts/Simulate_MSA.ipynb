{
 "cells": [
  {
   "cell_type": "code",
   "execution_count": null,
   "metadata": {},
   "outputs": [],
   "source": [
    "source('/Users/rramabal/Documents/PhD/Coevolution/CNN_project/scripts/simulate_functions.r')"
   ]
  },
  {
   "cell_type": "code",
   "execution_count": null,
   "metadata": {},
   "outputs": [],
   "source": [
    "output_path <- '/Users/rramabal/Documents/PhD/Coevolution/Aminoacides/Simulated/CNN_project/'\n",
    "output_path_coev <- paste(output_path,'DataSet_10/rawData/COEV/',sep=\"\")\n",
    "output_path_no_coev <- paste(output_path,'DataSet_10/rawData/NO_COEV/',sep=\"\")\n",
    "\n",
    "\n",
    "simulate_all_data(output_path_coev, output_path_no_coev, 20, 40, 15, 2)"
   ]
  },
  {
   "cell_type": "code",
   "execution_count": null,
   "metadata": {},
   "outputs": [],
   "source": []
  }
 ],
 "metadata": {
  "kernelspec": {
   "display_name": "R",
   "language": "R",
   "name": "ir"
  },
  "language_info": {
   "codemirror_mode": "r",
   "file_extension": ".r",
   "mimetype": "text/x-r-source",
   "name": "R",
   "pygments_lexer": "r",
   "version": "3.6.2"
  }
 },
 "nbformat": 4,
 "nbformat_minor": 4
}
