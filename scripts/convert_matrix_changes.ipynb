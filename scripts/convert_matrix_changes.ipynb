{
 "cells": [
  {
   "cell_type": "code",
   "execution_count": 1,
   "metadata": {},
   "outputs": [
    {
     "name": "stderr",
     "output_type": "stream",
     "text": [
      "Loading required package: ape\n",
      "\n",
      "Loading required package: maps\n",
      "\n"
     ]
    }
   ],
   "source": [
    "source('/Users/rramabal/Documents/PhD/Coevolution/CNN_project/scripts/matrix_ancestral_changes.r')"
   ]
  },
  {
   "cell_type": "code",
   "execution_count": 2,
   "metadata": {},
   "outputs": [
    {
     "data": {
      "text/html": [
       "400"
      ],
      "text/latex": [
       "400"
      ],
      "text/markdown": [
       "400"
      ],
      "text/plain": [
       "[1] 400"
      ]
     },
     "metadata": {},
     "output_type": "display_data"
    }
   ],
   "source": [
    "mapping_list <- get_mapping(20);\n",
    "length(mapping_list)\n",
    "#mapping_list"
   ]
  },
  {
   "cell_type": "code",
   "execution_count": 3,
   "metadata": {},
   "outputs": [],
   "source": [
    "folder_msa <- '/Users/rramabal/Documents/PhD/Coevolution/Aminoacides/Simulated/CNN_project'\n",
    "folder_msa <- paste(folder_msa,'/DataSet_10/rawData/NO_COEV/',sep='')\n",
    "\n",
    "for ( i in list.files(folder_msa)){\n",
    "    if(grepl('tree', i)){\n",
    "        print(i)\n",
    "        name_tree <- paste(folder_msa, i, sep=\"\")\n",
    "        aux_name <- unlist(strsplit(i,\"tree\"))[[1]]\n",
    "        name_fasta <- gsub(\"tree\", \"fasta\", name_tree)\n",
    "        print(name_tree)\n",
    "        print(name_fasta)\n",
    "        print(aux_name)\n",
    "        \n",
    "        tree_coev <- read.tree(name_tree)\n",
    "        #plot(tree_coev)\n",
    "        align <- read.phyDat(name_fasta, format=\"fasta\", type=\"AA\")\n",
    "        \n",
    "        fit_coev <- pml(tree_coev, align,optQ=T,optEdge=F,optRate=T)\n",
    "        anc.ml <- ancestral.pml(fit_coev, type = \"ml\") #, site.pattern=F)\n",
    "        #print(anc.ml)\n",
    "        #plotAnc(tree_coev, anc.ml, i=10, site.pattern=F)\n",
    "        \n",
    "        vec <-vector()\n",
    "        count <- 0\n",
    "        for(z in 1:nrow(tree_coev$edge)){\n",
    "\n",
    "          ancestral_matrix <- anc.ml[[tree_coev$edge[z,1]]][attr(anc.ml,\"index\"),] #convert_to_matrix(anc.ml[tree_coev$edge[z,1]]);\n",
    "          orig_matrix <- anc.ml[[tree_coev$edge[z,2]]][attr(anc.ml,\"index\"),] #convert_to_matrix(anc.ml[tree_coev$edge[z,2]]);\n",
    "          vec <- cbind(vec, get_intermediate_values_matrix(orig_matrix, ancestral_matrix, mapping_list));\n",
    "        }\n",
    "\n",
    "        name_changes <- gsub(\"tree\", \"result_changes\", name_tree)\n",
    "        name_changes <- gsub(\"txt\", \"csv\", name_changes)\n",
    "        name_changes <- gsub(\"rawData\", \"matrixData\", name_changes)\n",
    "        #name_changes <- paste(name_changes, 'result_changes_NO_coev.csv',sep = '')\n",
    "        print(name_changes)\n",
    "        write.csv(vec, file = name_changes)\n",
    "        #break\n",
    "    }\n",
    "}"
   ]
  },
  {
   "cell_type": "code",
   "execution_count": null,
   "metadata": {},
   "outputs": [],
   "source": []
  }
 ],
 "metadata": {
  "kernelspec": {
   "display_name": "R",
   "language": "R",
   "name": "ir"
  },
  "language_info": {
   "codemirror_mode": "r",
   "file_extension": ".r",
   "mimetype": "text/x-r-source",
   "name": "R",
   "pygments_lexer": "r",
   "version": "3.6.2"
  }
 },
 "nbformat": 4,
 "nbformat_minor": 4
}
